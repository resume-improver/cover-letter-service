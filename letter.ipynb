{
 "cells": [
  {
   "cell_type": "code",
   "execution_count": 6,
   "id": "e199752d",
   "metadata": {},
   "outputs": [],
   "source": [
    "import requests\n",
    "import argparse\n",
    "import json\n"
   ]
  },
  {
   "cell_type": "code",
   "execution_count": 7,
   "id": "73669192",
   "metadata": {},
   "outputs": [],
   "source": [
    "def run(api_key, folder_id, resume, vacancy):\n",
    "    # Собираем запрос\n",
    "    data = {}\n",
    "    # Указываем тип модели\n",
    "    data[\"modelUri\"] = f\"gpt://{folder_id}/yandexgpt\"\n",
    "    # Настраиваем опции\n",
    "    data[\"completionOptions\"] = {\"temperature\": 0.5, \"maxTokens\": 3000}\n",
    "    # Указываем контекст для модели\n",
    "    data[\"messages\"] = [\n",
    "        {\"role\": \"system\",\n",
    "         \"text\": \"Ты помощник, который пишет профессиональные сопроводительные письма. \"\n",
    "         \"Напиши персонализированное сопроводительное письмо. Используй информацию из резюме и вакансии.\"\n",
    "            \"Всегда заполняй информацию, если она есть в резюме или вакансии\"\n",
    "             \"Обращайся к компании, а не к HR-специалисту\"\n",
    "             \"Возьми имя из резюме\"\n",
    "              \"Нельзя использовать слова коллеги\" },\n",
    "        {\"role\": \"user\", \n",
    "         \"text\": f\"Это резюме \\n \\n{resume} \\n \\nЭто описание вакансии {vacancy}\"},\n",
    "    ]\n",
    "    \n",
    "    # Отправляем запрос\n",
    "    response = requests.post(\n",
    "        \"https://llm.api.cloud.yandex.net/foundationModels/v1/completion\",\n",
    "        headers={\n",
    "            \"Accept\": \"application/json\",\n",
    "            \"Authorization\": f\"Api-Key {api_key}\"\n",
    "        },\n",
    "        json=data,\n",
    "    ).json()\n",
    "\n",
    "    #Распечатываем результат\n",
    "    return response"
   ]
  },
  {
   "cell_type": "code",
   "execution_count": 2,
   "id": "902337d6",
   "metadata": {},
   "outputs": [],
   "source": [
    "def get_key(path):\n",
    "    with open(path, 'r', encoding='utf-8') as file:\n",
    "        key = file.readline()\n",
    "    return key"
   ]
  },
  {
   "cell_type": "code",
   "execution_count": 8,
   "id": "b6206401",
   "metadata": {},
   "outputs": [],
   "source": [
    "def parse_json(name):\n",
    "    # Чтение JSON-файла\n",
    "    with open(name, 'r', encoding='utf-8') as file:\n",
    "        data = json.load(file)\n",
    "\n",
    "    # Собираем все пары \"ключ: значение\" в список строк\n",
    "    lines = []\n",
    "\n",
    "    for key, value in data.items():\n",
    "        # Если значение список — объединяем элементы через пробел\n",
    "        if isinstance(value, list):\n",
    "            lines.append(f\"{key}: {' '.join(value)}\")\n",
    "        else:\n",
    "            lines.append(f\"{key}: {value}\")\n",
    "\n",
    "    # Объединяем строки в одну, с переносами или через пробел\n",
    "    line = \"\\n\".join(lines)  # можно использовать \" \" вместо \"\\n\"\n",
    "    return line\n"
   ]
  },
  {
   "cell_type": "code",
   "execution_count": 9,
   "id": "98c21137",
   "metadata": {},
   "outputs": [],
   "source": [
    "resume_path = 'resume.json'\n",
    "vacancy_path = 'vacancy.json'\n",
    "resume = parse_json(resume_path)\n",
    "vacancy = parse_json(vacancy_path)"
   ]
  },
  {
   "cell_type": "code",
   "execution_count": 4,
   "id": "2999a33b",
   "metadata": {},
   "outputs": [],
   "source": [
    "api_key_path = r\"D:\\Study\\Projects\\yacamp\\secret_key.txt\"\n",
    "folder_id_path = r\"D:\\Study\\Projects\\yacamp\\folder.txt\"\n",
    "api_key = get_key(api_key_path)\n",
    "folder_id = get_key(folder_id_path)"
   ]
  },
  {
   "cell_type": "code",
   "execution_count": 10,
   "id": "657d8f6e",
   "metadata": {},
   "outputs": [
    {
     "name": "stdout",
     "output_type": "stream",
     "text": [
      "ФИО: Данил Красников\n",
      "Опыт_работы: ML-инженер 5 лет в Росатом\n",
      "Хард_скиллы: Python Jupiter PyTorch ComputerVision Apache Airflow\n",
      "Софт_скиллы: Прекрасно работаю в команде Умею обучать людей Выступаю на научиных конференциях\n",
      "Контакты: телегерам @mlkrasnikov\n",
      "Образование: кандидат технических наук\n",
      "Проекты: Системма банковского скоринга Поиск аномалий с использованием итерпретируемого ИИ\n",
      "Компания: МФЦ Полюс\n",
      "Требуемый опыт работы: 5 лет\n",
      "Требуемые hard-skills: Python C++ TensorFlow NLP Apache Airflow SQL\n",
      "Требуемые soft-skills: Умение работать в команде Стрессоустойчивость Умение правильно излагать и доносить свои мысли\n",
      "Ключевые задачи: Разработка чат-ботов для абитуентов университета Проектирование производственных справочных систем для добычи золота\n"
     ]
    }
   ],
   "source": [
    "print(resume)\n",
    "print(vacancy)"
   ]
  },
  {
   "cell_type": "code",
   "execution_count": 74,
   "id": "2de817d2",
   "metadata": {},
   "outputs": [
    {
     "data": {
      "text/plain": [
       "{'result': {'alternatives': [{'message': {'role': 'assistant',\n",
       "     'text': 'Уважаемая компания «МФЦ Полюс»!\\n\\nЯ внимательно изучил описание вакансии и хотел бы предложить свою кандидатуру на открытую позицию. Уверен, что мой профессиональный опыт и навыки соответствуют вашим требованиям.\\n\\nЗа время своей карьеры я накопил более чем пятилетний опыт работы с такими технологиями, как Python, C++, TensorFlow, NLP, Apache Airflow и SQL. Я успешно применял эти навыки в различных проектах, связанных с разработкой чат-ботов и созданием справочных систем.\\n\\nКроме того, я обладаю необходимыми soft skills: умею работать в команде, стрессоустойчив и способен чётко излагать свои мысли. Эти качества помогают мне эффективно взаимодействовать с коллегами и достигать поставленных целей.\\n\\nЯ заинтересован в возможности применить свои навыки и опыт в разработке чат-ботов для абитуриентов университета и проектировании производственных справочных систем для добычи золота. Уверен, что смогу внести значительный вклад в развитие вашей компании.\\n\\nБуду рад ответить на любые дополнительные вопросы и предоставить более подробную информацию о своём опыте и навыках. Спасибо за рассмотрение моей кандидатуры.\\n\\nС уважением,\\n[Ваше имя]'},\n",
       "    'status': 'ALTERNATIVE_STATUS_FINAL'}],\n",
       "  'usage': {'inputTextTokens': '243',\n",
       "   'completionTokens': '220',\n",
       "   'totalTokens': '463',\n",
       "   'completionTokensDetails': {'reasoningTokens': '0'}},\n",
       "  'modelVersion': '09.02.2025'}}"
      ]
     },
     "execution_count": 74,
     "metadata": {},
     "output_type": "execute_result"
    }
   ],
   "source": [
    "letter"
   ]
  },
  {
   "cell_type": "code",
   "execution_count": 11,
   "id": "a98c47cf",
   "metadata": {},
   "outputs": [],
   "source": [
    "letter = run(api_key, folder_id, resume=vacancy, vacancy=vacancy)"
   ]
  },
  {
   "cell_type": "code",
   "execution_count": 12,
   "id": "24826671",
   "metadata": {},
   "outputs": [
    {
     "name": "stdout",
     "output_type": "stream",
     "text": [
      "📩 Сопроводительное письмо:\n",
      "\n",
      "Уважаемый представитель компании «МФЦ Полюс»!\n",
      "\n",
      "Меня заинтересовала ваша вакансия на должность специалиста, связанного с разработкой чат-ботов и производственных справочных систем. Я убеждён, что мой опыт и навыки могут быть полезны для вашей компании.\n",
      "\n",
      "За время своей карьеры я накопил значительный опыт в разработке программных решений, включая работу с технологиями Python, C++, TensorFlow, NLP, Apache Airflow и SQL. Эти навыки позволяют мне эффективно решать сложные задачи, связанные с обработкой естественного языка и машинным обучением.\n",
      "\n",
      "Кроме того, я обладаю такими soft skills, как умение работать в команде, стрессоустойчивость и способность правильно излагать и доносить свои мысли. Это помогает мне эффективно взаимодействовать с коллегами и достигать поставленных целей.\n",
      "\n",
      "Я заинтересован в возможности применить свои навыки и опыт для разработки чат-ботов, которые помогут абитуентам университета, а также в создании производственных справочных систем, которые могут улучшить процессы в сфере добычи золота.\n",
      "\n",
      "Буду рад обсудить детали и ответить на любые вопросы. Благодарю за рассмотрение моей кандидатуры.\n",
      "\n",
      "С уважением,\n",
      "[Ваше имя]\n"
     ]
    }
   ],
   "source": [
    "# Извлекаем текст из первого альтернативного ответа\n",
    "if letter.get(\"result\") and len(letter[\"result\"][\"alternatives\"]) > 0:\n",
    "    letter_text = letter[\"result\"][\"alternatives\"][0][\"message\"][\"text\"]\n",
    "    print(\"📩 Сопроводительное письмо:\\n\")\n",
    "    print(letter_text)\n",
    "else:\n",
    "    print(\"❌ Не удалось найти сгенерированный текст в ответе.\")"
   ]
  }
 ],
 "metadata": {
  "kernelspec": {
   "display_name": "cover-letter-service-7uQ7_wnO-py3.12",
   "language": "python",
   "name": "python3"
  },
  "language_info": {
   "codemirror_mode": {
    "name": "ipython",
    "version": 3
   },
   "file_extension": ".py",
   "mimetype": "text/x-python",
   "name": "python",
   "nbconvert_exporter": "python",
   "pygments_lexer": "ipython3",
   "version": "3.12.10"
  }
 },
 "nbformat": 4,
 "nbformat_minor": 5
}
